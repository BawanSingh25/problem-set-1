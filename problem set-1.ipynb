{
 "cells": [
  {
   "cell_type": "markdown",
   "metadata": {},
   "source": [
    "## ques 1 = What data type is each of the following?\n",
    "## Solution:\n",
    "### 1st = 5 = it is an integer\n",
    "### 2nd = 5.0 = it is a float\n",
    "### 3rd = 5 > 1 = it is a boolean\n",
    "### 4th = '5' = it is a string\n",
    "### 5th = 5 * 2 = it is a integer\n",
    "### 6th = '5' * 2 = it is a string\n",
    "### 7th = '5' + '2' = it is a string\n",
    "### 8th = 5 / 2 = it is a float\n",
    "### 9th = 5 // 2 = it is an integer\n",
    "### 10th = [5, 2, 1] = it is a list\n",
    "### 11th = 5 in [1, 4, 6] = it is a boolean\n",
    "### 12th = math.pi = it is a float\n"
   ]
  },
  {
   "cell_type": "markdown",
   "metadata": {},
   "source": [
    "## ques 2 \n",
    "### Write (and evaluate) Python expressions that answer these \n",
    "### a = How many letters are there in 'Supercalifragilisticexpialidocious'? "
   ]
  },
  {
   "cell_type": "code",
   "execution_count": 1,
   "metadata": {},
   "outputs": [
    {
     "data": {
      "text/plain": [
       "34"
      ]
     },
     "execution_count": 1,
     "metadata": {},
     "output_type": "execute_result"
    }
   ],
   "source": [
    "len( 'Supercalifragilisticexpialidocious') # len fuction counts the no of letters"
   ]
  },
  {
   "cell_type": "markdown",
   "metadata": {},
   "source": [
    "### b =  Does 'Supercalifragilisticexpialidocious' contain 'ice' as a substring? "
   ]
  },
  {
   "cell_type": "code",
   "execution_count": 2,
   "metadata": {},
   "outputs": [
    {
     "name": "stdout",
     "output_type": "stream",
     "text": [
      "True\n"
     ]
    }
   ],
   "source": [
    "# word is a variable which is assigned to the given string\n",
    "word=( 'Supercalifragilisticexpialidocious')\n",
    "print('ice' in word)\n",
    "# True means 'ice' is present in the above string"
   ]
  },
  {
   "cell_type": "markdown",
   "metadata": {},
   "source": [
    "### c =  Which of the following words is the longest: Supercalifragilisticexpialidocious, Honorificabilitudinitatibus,  or Bababadalgharaghtakamminarronnkonn?  "
   ]
  },
  {
   "cell_type": "code",
   "execution_count": 5,
   "metadata": {},
   "outputs": [
    {
     "name": "stdout",
     "output_type": "stream",
     "text": [
      " Bababadalgharaghtakamminarronnkonn\n"
     ]
    }
   ],
   "source": [
    "def largestword(listofword):        # defining a function\n",
    "    largest = listofword[0]\n",
    "    for i in listofword:\n",
    "        if len(i) > len(largest):   # using if function to find the outcome\n",
    "            largest = i\n",
    "    return largest\n",
    "\n",
    "## calling define function and putting in the values asked in ques \n",
    "\n",
    "print(largestword([\"Supercalifragilisticexpialidocious\",\"Honorificabilitudinitatibus\",\" Bababadalgharaghtakamminarronnkonn\"]))\n",
    "    \n",
    "## it is clear that the output string is the longest"
   ]
  },
  {
   "cell_type": "markdown",
   "metadata": {},
   "source": [
    "### d = Which composer comes first in the dictionary: 'Berlioz', 'Borodin', 'Brian', 'Bartok', 'Bellini', 'Buxtehude', 'Bernstein'. Which one comes last? "
   ]
  },
  {
   "cell_type": "code",
   "execution_count": 7,
   "metadata": {},
   "outputs": [
    {
     "name": "stdout",
     "output_type": "stream",
     "text": [
      "('Bartok', 'Buxtehude')\n"
     ]
    }
   ],
   "source": [
    "def composer(listofcomposer):\n",
    "    listofcomposer.sort()                            # sorting with a built in function .sort() in python\n",
    "    return listofcomposer[0],listofcomposer[-1]      #[0] will return first composer and [1] will return last\n",
    "\n",
    "#calling the def function and asking for the list   \n",
    "\n",
    "print(composer(['Berlioz', 'Borodin', 'Brian', 'Bartok', 'Bellini', 'Buxtehude', 'Bernstein']))"
   ]
  },
  {
   "cell_type": "markdown",
   "metadata": {},
   "source": [
    "## ques 3 \n",
    "### a =  Write a function inside(x,y,x1,y1,x2,y2) that returns True or False depending on whether the point (x,y) lies in the rectangle with lower left corner (x1,y1) and upper right corner (x2,y2). \n",
    " \n",
    "#### >>> inside(1,1,0,0,2,3) True \n",
    "#### >>> inside(-1,-1,0,0,2,3) False \n",
    " ### b =  Use function inside() from part a. to write an expression that tests whether the point (1,1) lies in both of the following rectangles: one with lower left corner (0.3, 0.5) and upper right corner (1.1, 0.7) and the other with lower left corner (0.5, 0.2) and upper right corner (1.1, 2)."
   ]
  },
  {
   "cell_type": "code",
   "execution_count": 10,
   "metadata": {},
   "outputs": [
    {
     "name": "stdout",
     "output_type": "stream",
     "text": [
      "True\n",
      "False\n",
      "False\n",
      "True\n"
     ]
    }
   ],
   "source": [
    "##part a of the question\n",
    "\n",
    "def inside(x,y,x1,y1,x2,y2):                   #defining the function\n",
    "    result = False\n",
    "    if x>=x1 and y>=y1 and x<=x2 and y<=y2:    #the condition to check weather x,y lies in rectangle\n",
    "        return True\n",
    "    return result\n",
    "\n",
    "#calling the defined function\n",
    "\n",
    "value = inside(1,1,0,0,2,3)                   #checking the value for True\n",
    "print(value)                                  #checking the value for False\n",
    "value1 = inside(-1,-1,0,0,2,3)\n",
    "print(value1)\n",
    "\n",
    "\n",
    "##part b of the question\n",
    "\n",
    "a = inside(1,1,0.3,0.5,1.1,0.7)               #given(x,y=1,1),(x1,y1=0.3,0.5),(x2,y2=1.1,0.7)\n",
    "print(a)                                      #output is false i.e 1,1 doesnot lie in the given points\n",
    "\n",
    "b = inside(1,1,0.5,0.2,1.1,2)                 #given(x,y=1,1),(x1,y1=0.5,0.2),(x2,y2=1.1,2)\n",
    "print(b)                                      #output is true i.e 1,1 lie in given points\n",
    "\n",
    "\n"
   ]
  },
  {
   "cell_type": "markdown",
   "metadata": {},
   "source": [
    "## ques 4 \n",
    "### . You can turn a word into pig-Latin using the following two rules (simplified): • If the word starts with a consonant, move that letter to the end and append 'ay'. For example, 'happy' becomes 'appyhay' and 'pencil' becomes 'encilpay'. • If the word starts with a vowel, simply append 'way' to the end of the word. For example, 'enter' becomes 'enterway' and 'other' becomes 'otherway' . For our purposes, there are 5 vowels: a, e, i, o, u (so we count y as a consonant). Write a function pig() that takes a word (i.e., a string) as input and returns its pigLatin form. Your function should still work if the input word contains upper case characters. Your output should always be lower case however.  \n",
    "###  pig('happy') 'appyhay' \n",
    "###  pig('Enter') 'enterway' "
   ]
  },
  {
   "cell_type": "code",
   "execution_count": 18,
   "metadata": {},
   "outputs": [
    {
     "name": "stdout",
     "output_type": "stream",
     "text": [
      "appyhay\n",
      "enterway\n"
     ]
    }
   ],
   "source": [
    "def pig(str):                                     #defining a function pig\n",
    "    if str[0] in ['a', 'e', 'i', 'o', 'u']:       #if str is in vowel then at the end of string add way\n",
    "        str=str+\"way\"                             \n",
    "        return str\n",
    "\n",
    "    else:\n",
    "        # if its consonant start the str with index[1:] concatinate it with [0] i.e first letter of str,add ay at end  \n",
    "        # str3 = appy + h + ay\n",
    "        # str[start : end]\n",
    "        str3= str[1:] + str[0] + \"ay\"            \n",
    "        return str3\n",
    "\n",
    "\n",
    "print(pig(\"happy\"))                             # the string starts with h so the output will be appyhay                           \n",
    "print(pig(\"enter\"))                             #the string starts with e so way will be added at the end i.e enterway"
   ]
  },
  {
   "cell_type": "markdown",
   "metadata": {},
   "source": [
    "## ques 5 \n",
    "### File bloodtype1.txt records blood-types of patients (A, B, AB, O or OO) at a clinic. Write a function bldcount() that reads the file with name name and reports (i.e., prints) how many patients there are in each bloodtype"
   ]
  },
  {
   "cell_type": "code",
   "execution_count": 1,
   "metadata": {},
   "outputs": [
    {
     "name": "stdout",
     "output_type": "stream",
     "text": [
      "there are  13  patient of  AB\n",
      "there are  15  patient of  A\n",
      "there are  1  patient of  B\n",
      "there are  0  patient of  OO\n",
      "there are  15  patient of  O\n"
     ]
    }
   ],
   "source": [
    "# first we will define the function bloodcount()\n",
    "\n",
    "def bloodcount(name):                        \n",
    "    f=open(name,\"r\")                            # reading and opening      \n",
    "    for line in f:                              # using for loop to check blood count  \n",
    "        blood = line.split(' ')\n",
    "    blood_grp = ['AB','A','B','OO','O']                        # putting all the available blood group in a list \n",
    "    for i in blood_grp:                                        # using for loop here to count no of   patient of each blood type     \n",
    "        print(\"there are \",blood.count(i),\" patient of \",i)   \n",
    "        \n",
    "# finally asking the function to check the bloodtype.txt file\n",
    "\n",
    "bloodcount(\"bloodtype.txt\")"
   ]
  },
  {
   "cell_type": "markdown",
   "metadata": {},
   "source": [
    "## ques 6  \n",
    "### Write a function curconv() that takes as input: \n",
    " \n",
    " ### 1. a currency represented using a string (e.g., 'JPY' for the Japanese Yen or 'EUR' for the Euro) 2. an amount \n",
    " \n",
    "### and then converts and returns the amount in US dollars"
   ]
  },
  {
   "cell_type": "code",
   "execution_count": 7,
   "metadata": {},
   "outputs": [
    {
     "name": "stdout",
     "output_type": "stream",
     "text": [
      "122.96544\n",
      "1.241401\n"
     ]
    }
   ],
   "source": [
    "# this code will convert every curr to usdollr$\n",
    "# defining a function curconv which will take curr and amount \n",
    "\n",
    "def curconv(curr,amount):\n",
    "    \n",
    "    # currencies.txt file path\n",
    "    \n",
    "    f=open(r\"currencies.txt\",\"r\")                      # opening and reading currencies.txt from its file path          \n",
    "    for line in f:                                     # using for loop to check the currency line by line until the asked one appear\n",
    "        #print(line.split(\" \")) it will run till the asked curr in the appears in output\n",
    "        if curr == line.split(\" \")[0]:                 # '''using if statement here to check curr from [0] index and when the asked curr appears then it will calculate and return value in next statement'''\n",
    "            return amount * float(line.split(\" \")[1])\n",
    "\n",
    "\n",
    "# calling defined function \n",
    "\n",
    "print(curconv('EUR',100))\n",
    "print(curconv('JPY',100))"
   ]
  },
  {
   "cell_type": "markdown",
   "metadata": {},
   "source": [
    "# ques 7 \n",
    "## Each of the following will cause an exception (an error). Identify what type of exception each will cause\n",
    "## a = Trying to add incompatible variables, as in adding 6 + ‘a’ \n",
    "## Answer =  it is Type error\n",
    "## b = Referring to the 12th item of a list that has only 10 items \n",
    "## Answer = it is a Index error\n",
    "## c = Using a value that is out of range for a function’s input, such as calling math.sqrt(-1.0)  \n",
    "## Answer = it will give Value Error\n",
    "## d = Using an undeclared variable, such as print(x) when x has not been defined \n",
    "## Answer = It is name error\n",
    "## e = Trying to open a file that does not exist, such as mistyping the file name or looking in the wrong directory\n",
    "## Answer = File not found error"
   ]
  },
  {
   "cell_type": "markdown",
   "metadata": {},
   "source": [
    "## ques8\n",
    "### Encryption is the process of hiding the meaning of a text by substituting letters in the message with other letters, according to some system. If the process is successful, no one but the intended recipient can understand the encrypted message. Cryptanalysis refers to attempts to undo the encryption, even if some details of the encryption are unknown (for example, if an encrypted message has been intercepted). The first step of cryptanalysis is often to build up a table of letter frequencies in the encrypted text. Assume that the string letters is already defined as 'abcdefghijklmnopqrstuvwxyz'. Write a function called frequencies() that takes a string as its only parameter, and returns a list of integers, showing the number of times each character appears in the text. Your function may ignore any characters that are not in letters.  \n",
    " ###  frequencies('The quick red fox got bored and went home.') [1, 1, 1, 3, 5, 1, 1, 2, 1, 0, 1, 0, 1, 2, 4, 0, 1, 2, 0, 2, 1, 0, 1, 1, 0, 0] \n",
    " ###  frequencies('apple')"
   ]
  },
  {
   "cell_type": "code",
   "execution_count": 7,
   "metadata": {},
   "outputs": [
    {
     "name": "stdout",
     "output_type": "stream",
     "text": [
      "the quick red foxgot bored and went home\n",
      "[1, 1, 1, 3, 5, 1, 1, 2, 1, 0, 1, 0, 1, 2, 4, 0, 1, 2, 0, 3, 1, 0, 1, 1, 0, 0]\n",
      "apple\n",
      "[1, 0, 0, 0, 1, 0, 0, 0, 0, 0, 0, 1, 0, 0, 0, 2, 0, 0, 0, 0, 0, 0, 0, 0, 0, 0]\n"
     ]
    }
   ],
   "source": [
    "# defining function frequencies\n",
    "\n",
    "def frequencies(inp):\n",
    "    t=[]                                                          # taking an empty list t[] \n",
    "    \n",
    "    inp=inp.lower()                                               # taking variable inp and all letters in lower case \n",
    "    print(inp)                      \n",
    "    for i in range(26):                                            # using for loop till range 26 \n",
    "        t.append(0)                                                # appending list with 0\n",
    "    for i in inp:                   \n",
    "#  applying ASCII values to string using if\n",
    "\n",
    "        if i.isspace()==False & (ord(i) >= 97 & ord(i) <= 122):    #using conditional statements applying ASCII value to encode the string\n",
    "            t[ord(i) - 97] = t[ord(i)-97]+1\n",
    "    print(t)\n",
    "    \n",
    "# calling def function and asking for the string that needs to be encrypted     \n",
    "    \n",
    "frequencies(\"the quick red foxgot bored and went home\")         \n",
    "frequencies(\"apple\")"
   ]
  },
  {
   "cell_type": "markdown",
   "metadata": {},
   "source": [
    "## ques 9 \n",
    "### The Sieve of Erastophenes is an algorithm -- known to ancient Greeks -- that finds all prime numbers up to a given number n. It does this by first creating a list L from 2 to n and an (initially empty) list primeL. The algorithm then takes the first number in list L (2) and appends it to list primeL, and then removes 2 and all its multiples (4,6,8,10,12, ...) from L. The algorithm then takes the new first number in L (3) and appends it to list primeL, and then removes from L 3 and all its remaining multiples (9,15,21,...). So, in every iteration, the first number of list L is appended to list primeL and then it and its multiples are removed from list L. The iterations stop when list L becomes empty. Write a function sieve() that takes as input a positive integer n, implements the above algorithm, and returns a list of all prime numbers up to n. \n",
    "#### >>> sieve(56) [2, 3, 5, 7, 11, 13, 17, 19, 23, 29, 31, 37, 41, 43, 47, 53] \n",
    "#### >>> sieve(368) [2, 3, 5, 7, 11, 13, 17, 19, 23, 29, 31, 37, 41, 43, 47, 53, 59, 61, 67, 71, 73, 79, 83, 89, 97, 101, 103, 107, 109, 113, 127, 131, 137, 139, 149, 151, 157, 163, 167, 173, 179, 181, 191, 193, 197, 199, 211, 223, 227, 229, 233, 239, 241, 251, 257, 263, 269, 271, 277, 281, 283, 293, 307, 311, 313, 317, 331, 337, 347, 349, 353, 359, 367]\n",
    "####  >>> sieve(32) [2, 3, 5, 7, 11, 13, 17, 19, 23, 29, 31] "
   ]
  },
  {
   "cell_type": "code",
   "execution_count": 26,
   "metadata": {},
   "outputs": [
    {
     "name": "stdout",
     "output_type": "stream",
     "text": [
      "[2, 3, 5, 7, 11, 13, 17, 19, 23, 29, 31, 37, 41, 43, 47, 53]\n",
      "None\n",
      "[2, 3, 5, 7, 11, 13, 17, 19, 23, 29, 31, 37, 41, 43, 47, 53, 59, 61, 67, 71, 73, 79, 83, 89, 97, 101, 103, 107, 109, 113, 127, 131, 137, 139, 149, 151, 157, 163, 167, 173, 179, 181, 191, 193, 197, 199, 211, 223, 227, 229, 233, 239, 241, 251, 257, 263, 269, 271, 277, 281, 283, 293, 307, 311, 313, 317, 331, 337, 347, 349, 353, 359, 367]\n",
      "None\n",
      "[2, 3, 5, 7, 11, 13, 17, 19, 23, 29, 31]\n",
      "None\n"
     ]
    }
   ],
   "source": [
    "# defining function \n",
    "def sieve(n):\n",
    "    \n",
    "    L=[]                     #creating empty list to have numbers\n",
    "    for i in range(2,n):     #by using .append adding no to list\n",
    "        L.append(i)\n",
    "        \n",
    "    primeL=[]                    # again creating empty list to have prime no at last\n",
    "        \n",
    "    for i in range(2,len(L)+2):   #using for loop to run all elements of L\n",
    "        for j in L:\n",
    "            if j % i == 0:\n",
    "                L.remove(j)\n",
    "                \n",
    "                if i  not in primeL:        \n",
    "                    primeL.append(i)          # using element in prime list \n",
    "                    \n",
    "    print(primeL)\n",
    "\n",
    "# calling the function\n",
    "\n",
    "print(sieve(56))\n",
    "print(sieve(368))\n",
    "print(sieve(32))\n",
    "        \n",
    "    "
   ]
  },
  {
   "cell_type": "markdown",
   "metadata": {},
   "source": [
    "## ques 10\n",
    "### Implement function triangleArea(a,b,c) that takes as input the lengths of the 3 sides of a triangle and returns the area of the triangle. By Heron's formula, the area of a triangle with side lengths a, b, and c is \n",
    "  \n",
    "s(s-a)(s-b)(s-c), where \n",
    "  \n",
    "s=(a+b+c)/2. \n",
    "#### triangleArea(2,2,2) 1.7320508075688772"
   ]
  },
  {
   "cell_type": "code",
   "execution_count": 27,
   "metadata": {},
   "outputs": [
    {
     "name": "stdout",
     "output_type": "stream",
     "text": [
      "1.7320508075688772\n"
     ]
    }
   ],
   "source": [
    "# importing built in math function in python \n",
    "\n",
    "import math \n",
    "def triangleArea(a,b,c):                          # creating a function \n",
    "    s = (a+b+c)/2\n",
    "    result= math.sqrt(s*(s-a)*(s-b)*(s-c))            #formulae used\n",
    "    return result                                     # returning the result\n",
    "\n",
    "# calling defined function\n",
    "\n",
    "value = triangleArea(2,2,2)                          #putting the values of a,b,c to 2,2,2\n",
    "print(value)\n",
    "\n"
   ]
  },
  {
   "cell_type": "code",
   "execution_count": null,
   "metadata": {},
   "outputs": [],
   "source": []
  }
 ],
 "metadata": {
  "kernelspec": {
   "display_name": "Python 3",
   "language": "python",
   "name": "python3"
  },
  "language_info": {
   "codemirror_mode": {
    "name": "ipython",
    "version": 3
   },
   "file_extension": ".py",
   "mimetype": "text/x-python",
   "name": "python",
   "nbconvert_exporter": "python",
   "pygments_lexer": "ipython3",
   "version": "3.7.6"
  }
 },
 "nbformat": 4,
 "nbformat_minor": 4
}
